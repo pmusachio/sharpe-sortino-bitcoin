{
 "cells": [
  {
   "cell_type": "markdown",
   "id": "c61b77d8-9625-4496-8a67-5011823128f1",
   "metadata": {},
   "source": [
    "- Sharpe ratio indicates how well an investment performs compared to a risk-free investment, taking into account the additional level of risk involved in holding the stock investment\n",
    "\n",
    "$\\textbf{Sharpe ratio} = \\frac{R{p}-R{f}}{{\\sigma {p}}}$\n",
    "\n",
    "where:<br>\n",
    "$R{p}$ = return of portfolio (or stock)<br>\n",
    "$R{f}$ = risk-free rate<br>\n",
    "$\\sigma {p}$ = standard deviation of returns<br>"
   ]
  },
  {
   "cell_type": "markdown",
   "id": "4e8182ad-a859-44a8-82c9-5667bd27625d",
   "metadata": {},
   "source": [
    "- Sortino ratio is a variation of the Sharpe ratio that considers only downside risk\n",
    "\n",
    "$\\textbf{Sortino ratio} = \\frac{R{p}-R{f}}{{\\sigma {p}}}$\n",
    "\n",
    "where:<br>\n",
    "$R{p}$ = return of portfolio (or stock)<br>\n",
    "$R{f}$ = risk-free rate<br>\n",
    "$\\sigma {p}$ = standard deviation of the negative returns<br>"
   ]
  },
  {
   "cell_type": "markdown",
   "id": "40a8838b-15cc-4afd-a19a-d5816265fb1c",
   "metadata": {},
   "source": [
    "- Sharpe ratio is used more to evaluate low-volatility investment portfolios, and the Sortino variation is used more to evaluate high-volatility portfolios (bull markets)"
   ]
  },
  {
   "cell_type": "markdown",
   "id": "ea1f1b42-3381-453c-b94a-ee737f936d5a",
   "metadata": {},
   "source": [
    "## 0 Imports\n",
    "---"
   ]
  },
  {
   "cell_type": "code",
   "execution_count": 81,
   "id": "4b87834d-3f9a-4ccd-a80e-cd52bf7f406e",
   "metadata": {},
   "outputs": [
    {
     "name": "stdout",
     "output_type": "stream",
     "text": [
      "Requirement already satisfied: plotly in /Users/pmusachio/.pyenv/versions/3.12.3/lib/python3.12/site-packages (6.1.0)\n",
      "Requirement already satisfied: narwhals>=1.15.1 in /Users/pmusachio/.pyenv/versions/3.12.3/lib/python3.12/site-packages (from plotly) (1.39.1)\n",
      "Requirement already satisfied: packaging in /Users/pmusachio/.pyenv/versions/3.12.3/lib/python3.12/site-packages (from plotly) (24.2)\n"
     ]
    }
   ],
   "source": [
    "!pip install plotly"
   ]
  },
  {
   "cell_type": "code",
   "execution_count": 82,
   "id": "dbcfb5d6-b224-4a72-9f1b-2fbe9af8b74a",
   "metadata": {},
   "outputs": [],
   "source": [
    "import numpy as np\n",
    "import pandas as pd\n",
    "import yfinance as yf\n",
    "import quantstats as qs\n",
    "from scipy import stats\n",
    "import plotly.express as px\n",
    "import plotly.graph_objects as go\n",
    "from plotly.subplots import make_subplots"
   ]
  },
  {
   "cell_type": "markdown",
   "id": "8163f920-43c0-4fd5-b978-7c99c8d06709",
   "metadata": {},
   "source": [
    "## 1 Load Data\n",
    "---"
   ]
  },
  {
   "cell_type": "code",
   "execution_count": 48,
   "id": "2af77bc3-6898-4b5b-94a8-7279bd62a211",
   "metadata": {},
   "outputs": [
    {
     "name": "stderr",
     "output_type": "stream",
     "text": [
      "[*********************100%***********************]  1 of 1 completed\n"
     ]
    },
    {
     "data": {
      "text/html": [
       "<div>\n",
       "<style scoped>\n",
       "    .dataframe tbody tr th:only-of-type {\n",
       "        vertical-align: middle;\n",
       "    }\n",
       "\n",
       "    .dataframe tbody tr th {\n",
       "        vertical-align: top;\n",
       "    }\n",
       "\n",
       "    .dataframe thead tr th {\n",
       "        text-align: left;\n",
       "    }\n",
       "\n",
       "    .dataframe thead tr:last-of-type th {\n",
       "        text-align: right;\n",
       "    }\n",
       "</style>\n",
       "<table border=\"1\" class=\"dataframe\">\n",
       "  <thead>\n",
       "    <tr>\n",
       "      <th>Price</th>\n",
       "      <th>Close</th>\n",
       "    </tr>\n",
       "    <tr>\n",
       "      <th>Ticker</th>\n",
       "      <th>BTC-USD</th>\n",
       "    </tr>\n",
       "    <tr>\n",
       "      <th>Date</th>\n",
       "      <th></th>\n",
       "    </tr>\n",
       "  </thead>\n",
       "  <tbody>\n",
       "    <tr>\n",
       "      <th>2018-01-01</th>\n",
       "      <td>13657.200195</td>\n",
       "    </tr>\n",
       "    <tr>\n",
       "      <th>2018-01-02</th>\n",
       "      <td>14982.099609</td>\n",
       "    </tr>\n",
       "    <tr>\n",
       "      <th>2018-01-03</th>\n",
       "      <td>15201.000000</td>\n",
       "    </tr>\n",
       "    <tr>\n",
       "      <th>2018-01-04</th>\n",
       "      <td>15599.200195</td>\n",
       "    </tr>\n",
       "    <tr>\n",
       "      <th>2018-01-05</th>\n",
       "      <td>17429.500000</td>\n",
       "    </tr>\n",
       "  </tbody>\n",
       "</table>\n",
       "</div>"
      ],
      "text/plain": [
       "Price              Close\n",
       "Ticker           BTC-USD\n",
       "Date                    \n",
       "2018-01-01  13657.200195\n",
       "2018-01-02  14982.099609\n",
       "2018-01-03  15201.000000\n",
       "2018-01-04  15599.200195\n",
       "2018-01-05  17429.500000"
      ]
     },
     "execution_count": 48,
     "metadata": {},
     "output_type": "execute_result"
    }
   ],
   "source": [
    "df_btc = yf.download('BTC-USD', start = '2018-01-01')[['Close']]\n",
    "df_btc.head()"
   ]
  },
  {
   "cell_type": "code",
   "execution_count": 49,
   "id": "fc13d2b3-5a7c-40c2-b6ac-e1ba5233e053",
   "metadata": {},
   "outputs": [
    {
     "data": {
      "image/png": "[encoded data removed]",
      "text/plain": [
       "<Figure size 1000x600 with 1 Axes>"
      ]
     },
     "metadata": {},
     "output_type": "display_data"
    }
   ],
   "source": [
    "df_btc.plot();"
   ]
  },
  {
   "cell_type": "markdown",
   "id": "27f425c6-8703-4b4b-b342-eea96960b321",
   "metadata": {},
   "source": [
    "## 2 Metrics Analysis\n",
    "---"
   ]
  },
  {
   "cell_type": "code",
   "execution_count": 50,
   "id": "62f01876-cbfe-493a-bfc5-7270813c3f98",
   "metadata": {},
   "outputs": [],
   "source": [
    "# calculating Sharpe and Sortino ratios considering a risk-free rate 5% per semester\n",
    "sharpe_qs = pd.Series(qs.stats.rolling_sharpe(df_btc['Close'], rf = 0.05).values.ravel())\n",
    "sortino_qs = pd.Series(qs.stats.rolling_sortino(df_btc['Close'], rf = 0.05).values.ravel())\n",
    "sharpe_qs.index = df_btc.index\n",
    "sortino_qs.index = df_btc.index"
   ]
  },
  {
   "cell_type": "markdown",
   "id": "914b67b4-a61f-48f9-9b5e-e29cdf0d7392",
   "metadata": {},
   "source": [
    "quantstats library presents a calculation of the variation of indices using a rolling function (semester ~ 126 days)"
   ]
  },
  {
   "cell_type": "markdown",
   "id": "af5eb8d2-555e-48fb-99bc-7fc43f2c85a6",
   "metadata": {},
   "source": [
    "### correlation between indices"
   ]
  },
  {
   "cell_type": "code",
   "execution_count": 73,
   "id": "6c881695-767a-4063-9227-6620d12175c7",
   "metadata": {},
   "outputs": [
    {
     "data": {
      "application/vnd.plotly.v1+json": {
       "config": {
        "plotlyServerURL": "https://plot.ly"
       },
       "data": [
        {
         "type": "scatter",
         "x": {
          "bdata": "AAAAAAAA+H8AAAAAAAD4fwAAAAAAAPh/AAAAAAAA+H8AAAAAAAD4fwAAAAAAAPh/AAAAAAAA+H8AAAAAAAD4fwAAAAAAAPh/AAAAAAAA+H8AAAAAAAD4fwAAAAAAAPh/AAAAAAAA+H8AAAAAAAD4fwAAAAAAAPh/AAAAAAAA+H8AAAAAAAD4fwAAAAAAAPh/AAAAAAAA+H8AAAAAAAD4fwAAAAAAAPh/AAAAAAAA+H8AAAAAAAD4fwAAAAAAAPh/AAAAAAAA+H8AAAAAAAD4fwAAAAAAAPh/AAAAAAAA+H8AAAAAAAD4fwAAAAAAAPh/AAAAAAAA+H8AAAAAAAD4fwAAAAAAAPh/AAAAAAAA+H8AAAAAAAD4fwAAAAAAAPh/AAAAAAAA+H8AAAAAAAD4fwAAAAAAAPh/AAAAAAAA+H8AAAAAAAD4fwAAAAAAAPh/AAAAAAAA+H8AAAAAAAD4fwAAAAAAAPh/AAAAAAAA+H8AAAAAAAD4fwAAAAAAAPh/AAAAAAAA+H8AAAAAAAD4fwAAAAAAAPh/AAAAAAAA+H8AAAAAAAD4fwAAAAAAAPh/AAAAAAAA+H8AAAAAAAD4fwAAAAAAAPh/AAAAAAAA+H8AAAAAAAD4fwAAAAAAAPh/AAAAAAAA+H8AAAAAAAD4fwAAAAAAAPh/AAAAAAAA+H8AAAAAAAD4fwAAAAAAAPh/AAAAAAAA+H8AAAAAAAD4fwAAAAAAAPh/AAAAAAAA+H8AAAAAAAD4fwAAAAAAAPh/AAAAAAAA+H8AAAAAAAD4fwAAAAAAAPh/AAAAAAAA+H8AAAAAAAD4fwAAAAAAAPh/AAAAAAAA+H8AAAAAAAD4fwAAAAAAAPh/AAAAAAAA+H8AAAAAAAD4fwAAAAAAAPh/AAAAAAAA+H8AAAAAAAD4fwAAAAAAAPh/AAAAAAAA+H8AAAAAAAD4fwAAAAAAAPh/AAAAAAAA+H8AAAAAAAD4fwAAAAAAAPh/AAAAAAAA+H8AAAAAAAD4fwAAAAAAAPh/AAAAAAAA+H8AAAAAAAD4fwAAAAAAAPh/AAAAAAAA+H8AAAAAAAD4fwAAAAAAAPh/AAAAAAAA+H8AAAAAAAD4fwAAAAAAAPh/AAAAAAAA+H8AAAAAAAD4fwAAAAAAAPh/AAAAAAAA+H8AAAAAAAD4fwAAAAAAAPh/AAAAAAAA+H8AAAAAAAD4fwAAAAAAAPh/AAAAAAAA+H8AAAAAAAD4fwAAAAAAAPh/AAAAAAAA+H8AAAAAAAD4fwAAAAAAAPh/AAAAAAAA+H8AAAAAAAD4fwAAAAAAAPh/AAAAAAAA+H8AAAAAAAD4fzqW8pX3lty/WV1cWyBj4L+VzxSTm8LovyubTNsVHum/bs5dBkY97b+X+fPm0KX1vx6xkHlRk/W/WBtFzR918r/LJVI/kFLvv9hzxhF+Su6/9vFWjJHB8L/OAJwxcn3sv8bseUx5We6/JdItjbY/8L+u0Uz75Onqv6CDU9j9Bey/TSnw88xM478hgGtpwOXlv4/t4GRuo+e/vZy9Ujas6b8qpXi3h0Pyv7bnF/Jcs+y/otppO42n6r/m7ho91DTmv4ix1vDiu+q/xQBQpVgH6b8kGYhkY93nv6O//0f2wOi/ElP6tCd06r+O7T0cpkPpv8zKpAh6DN+/9p8RodBC4L8jIn8krO/NvwswNgqSqcO/1LYm/hSr0r8EnnXX1NzSv1QcsGW5jcg/LwA2Nw5Z0b9py29foqvUv9I4SmR/Edu/lWrhOsMB5r9vMBP90WnjvzFbu9DJzd2/1KXo5NEb5b84lPaGfiDhv49NAWjKx+u/Iquty5T08b/RuIAs8J32v+WbMeycrvq/wQkOxDk0+L/Y8XlZihT7v6r200VoJf2/4t5T4vCn+b85IKs7naD4v2u1XQoDR/e/OWdHLtBe87+0CUwwk7/yv2f9mSI63vS/XtdmhMho979VsJL8Vk/1v2ka2enU8/e/xicjF4NX+L8HjNH4Gdr4vyE2s12Cl/m/i07PlfUf+r8b1WILucv5v41oFIEskfW/tG6uNjIH9L+hVS8BNJ7zvytxoNkxrPC/V9SpUu229L/mhUSSkDruv0jTukWlNeS/Mtfud6nX0b9SwnZM14/Pv3b4k9iNG9S/eMD7zGIbvL8qEXUrWILPv8Lpcb9ADdK/WaVLu7wxsr/EPDXb4XfGv1DfJaoA5si/LMccpky1xL+uODJQ7Lyxv5YIDH5fwYM/XkHf+ucKvD+4J+tZflW5P/OpDKW3Upe/wNNLUoo10z9PKolbnQTYP3gSDThq4cE/ITmwaoyIzD/7KqTr/mOlP3sWv7ACfc+/aaawELANyb9PKew6CliZv/5XTbV24cG/qpKmDN2VzL++8FIMfAXRv/cIkcJ3msO/3DMqlQX4zr8Evtqc1uHPv5r0ttlw6+e/QgfFWKA5478qTuyKQ27nv6gWSe6CNuu/JgNw4ov46r/iXDa1GCLlvypTuVD+Seu/S3tkoFAx6r/ge2wJ8Tjvv20+d087H++/JyeZW1nb7r9vZCB9VFntvydvofSwfvK/Bgs9OHio6793vZ7PQdLxv6IZ7FB/gO6/byZtrkmE8L96GP+oIEjwv6fDHg5VV+6/zc0Sh0bC6r+l85FmZt3yv2/k/DLLF/m/Md4ZR/9q+b9psXw4Z8n8v6FHr88msPq/SKjHNbWS+L85CEiVSbj3v1jXlq7ADPi/an4jNmln9L/AEO3Sm2vwv3W/O0cpnPC/afeWPZih8r+MhRqdQd70v1sFop9sYfK/kx01miME8b/iE44aT0brv+G32WXEYum/M+2Y6j6U6b+uidMBHTPuv8YiM4uR/O6/DwMUfnY47L9Txx+sH3/jv075DMLDLuC/9mbv8o7l3b9wTasj7ifbv0KN8655pNq/7DGDzMyu07/9oFPbPhnhv2YMy+6hAeG/GK9lZjoR4b9aCm4XIPrgv9nO/AtjjeO/Xtqt0J2i5L81LcyUcgDgv1VAj4oCaOK/p06fUTrz47/hT2gGofjqvzUE5wfqoOm/BeRUqNq7579AAHgatDrVv0CmSk7Jpci/QI20XAYxjj92eAZH+LHBP3B+Azvz8MG/7et1lPumTz+S/j05g9yovxC4drgNPpK/W51nghRBx78+qA7kH2DLv9wvKAg/Hsq/8e2g61zSx7+0sY7mUT/RP2A1bzO+/8o/vZmiA399yj/MqPSyADGgP3tZg8q/vsM/iJw3UUE7tz/ps7aOFdvVP3KEjnm3rLY/eT4fTDYztb9K/qVm5Qytv+ZNLEOxH8q/FB93oFRGu7+DRnlK8eS6v5uU/WhcJMm/DICzoCes0b/zdTWdL4bZv84v3jWKfNW/M4W0YQ351b+36AKiUoWlvwXgFgB2ROK/F09zM7yz4L+KxXEmSfLivwD/2efBg+S/BGQbY7um5L8xctL8ILX3vye4aOlqOgLAZa28N2kfAcDyVOFarEQDwOLuCyY55ALAZAF68xrwBcA3+DkKN6gEwOE9/9uz3wfAz/Dx37zYC8A+nVqAW1sFwCwe1/d6SwTA0q5MAQcDB8DS23cJ9TwFwGmhhdjD6QXAn7QucbxpB8AxSanKF3IFwAT2Z93CSAbAMYun8HG6B8AsNvpU1AsIwPUQ/zE0+gXAUThk1Ea2BMDYUuRyWB8FwHZy6EnW8QTAyi8I0eaCAsD3vKhAe3MFwNZZMd6dewTAA9d+ANEqBcBLX62W0iQFwD2noPpwcgHAysoEanoF/7/Yw5Oz1Er/v6GcEVIbEPi/TtxnEu+y/b+yVb0r72r6v4DsNA+Mbfu/XgTm21Z1+L+qWpOyYLb9v1Jj72AnDPy/hjWpCMk2AMCcSX99Hkn9v9iLmye6Iv+/mFhzRHbz/b/+s+efPqkAwNOS3jnJyADArHpHYp2U/7+FjTKMjEIAwMOuN2LCWQDAKkp9FNMdAcB9FlitPwT/vwCLHIlXoP+/fGY5BaAvAMAOO1CjrGj8v+pcJViFrf6/KPFmjAAC/r8bxpY6MWX8v4Ve7Nz5uP6/4SQNaNNX/L/HxG6K6WP9vz3z1YI2SP2/lt9k7ZZ2/r/BBd6mF77+v517SUjO3v2/RijXmpZ8/7913/Rlfe/9v+FYoysfUP6/4SOpyqbd/r+eusCbq7v/v8J2Iy/74QDAvbNqvz/OAMA3e3ozZ+cAwKbTTG3CSAHAyMorBPbXAMA8FE3dIr0AwLTm5Ba+0gHAEV3qQwhtAcCFaWdR9fYAwGD94TPuhQHAt6kQEoZoAcBWNuvYujMBwMj+dJtTZQHA3n3oDm/aAcAEJTb77Pf+v2PwApCAnP6/Ty0Q9Vxx/r+6e15LHn//v04mYX4OVv+/e3LLi54v/7/F2DWiKdL8vw58CH8i7fy/CtvASHjj/L/5lbR9Xjv8v04dArboFvu/iF4nsjyh+r8rXbAAF275vzlYyzAeffm/v6umoCam+L+p/Kr8C9z2vyWVn9bgw/q/dQELQtW8+b/WoXB2mAn6vwv33sZlQfq/Q/103q0J+r9kbBc71/T5v8B0Tsd17/m/aTFWrro6+r+l6An5qif6v5jmci6nHfi/EYFcLuXd97+O7TVKbEn4v1pRGH6nhfi/pNjD769n979ebgMacLH3v7uiEP3Hsvi/oGqe52T/+L9EFaZVtp/5v7GzixA6v/i/F8m5Nlqq978CIQCIvKD2vxXP+wNs9fa/N29s3/2F9r97AWYNXOX1v272Jv3T2fC/1OLc9tzE8L/yk4i8GyPwv1acuQQGhu+/MyuhUI+m8L/68peNrTzlvzBgcN6FgNW/EhAxwhyC178w2id9J6DIv3f2mLG1BsO/szalISTX0T+5jyDDV63CPy5jGNR+rts/n2ZVQiVJ7z+KLFN8LB3lP6nXda3FReM/9Y5HTw/b7T9oqpqUTZjoPxdA6pu9KO4/g4jZFK0Z9D+izsspJRPyP/CUUgBy8vY/GF17c2Tt9z9AgLd0Si36P3Ob4RyWO/k/hytX84Oz9z+kRfnhfn/4P5+eeYCYDPw/SlJtIiMa+z+zPPk2azz/P6XG2ClWZQBARk972miqAECj0R5Y8loAQIwnyYeewvw/HNtbhuom/D+utJYg5+L5P0lxUu9NU/A/HZfb+vCj9T8G9kwdLmrzP4woKK7j6vM/9lpLEgkB8j+4ZaboiY34P/lc3l/cdvg/0IUJLEMl/j/ZNvRv37D8P5zj7JLwpv8/D+Y4YJhI/j+XtDv5yyEAQGYFHGNDYv8/dp2MUZ9m/z/ODywzR/oBQKLmqyGY8QJAI7Chw54fBkDSKHIQPQgDQNTeWz+oWwZARGdrgIgMB0DBvCkJOdkHQGjdEOm3SApA59p19XJDB0DMFkMrJCkHQEACRaYs4ApAKOfITMivCEDl94tQ9FUJQAdAyshD1AdADYiWk3tqCEDxAF3aIQYJQOOVun4SsAhAIXPITgHYC0B6a8iB/owMQAUXOV2x9wtAGWnsD1LqC0AEzJcjGlgKQGNoH4eEPwtA+QwcgzgvC0BUAMKQifsLQAKFL8zpwwpAo9uyYSW1CEDsA/U3MNMIQIPiyU5WEwlAg6P1KXWfCUBgswlsHfoIQLb+/tJ6XghACGVwjDyGCUAex2VqWSwJQEuHr5XtcQpANwTEF9fjCkAqM3efMXkKQAOUAfIX7gpAZPFsHU5LC0AG6vUxjasMQJ3dUfeUwgtAIUqRVUSQDEDiNDdicnoNQKhsmjpjCQ9Adt7AR+IsEECC1esX8TQQQAy7FjyjPw9AAUeUF5tWEED/Ulwo6CcRQFFRQi8DtgxAiEuu9s1vDkDGOT95nYMMQMyFSDOw5wtAmHcAmhTQCkAqLcy8UIgLQD29pcNClA1A08GSiPupC0CGIslvPg8LQKwdbS6hiQtAk/VFWO0tDECSfVG6PU0OQGbCGOqRCA5AcXI7MTkODUAc4t8WPBELQFmDNThpCwxAmCGp3o2vCkDnWDa0lMUHQOprjCvoWwlAeHF3wB58BUDMJ90n1P8FQObMlDA5vgdAK7uN5Lc9B0ABRC93MT8HQMQ2/NgvBAdAcfbYbihoBkDfvtb2/SkFQFTH+fRS3wRAZIKJdKprBUAHv2f6J1sFQMsnAblgWARAlPBKryOYBEAPJ2kklNkEQNNk7dIy7gRAzvQa/pZlBUDx+Nfs7CUGQFeKXjkHPQZAJxZcoRvNBkAlQA0vAxsHQCxjfMBCRQhAFAZS+qD4BEBjJvwF3mgFQLVwxZeisQVArCn3NAn7BECC4iOafdEDQK6QGmZOjQNA356EyzLhAkA1T2iEDzcCQJvFaI5Tj/8/cWAAbjOBAUCbAei1qocBQDZKngIjLwFA+LVVhZgfAUD/lnxDy7QCQGIzQGmtrQFA+DJneC01AECr3z9Scf//P6uPmrATjwBAC7msv3W//z9dHikWStn/P+UiX8jiEQBA7BY+QWv6/T8tT0ArPuP8P+gpSPbo6v0/11Erl3q//T/AxGLpOv39Pws9SNkEbP4/Do1PAaWXAEA/hpvvyrwAQG4h4XBhdwBADjFbBTIFAEAUnckZex/9P2NJ44AgVf0/nbgXVxFI/T9DgYdBBzT9P524J2aFofs/pDV+AezI+j+CtT7jr2b6P2ks6OE8y/g/oWkhwQnA8z8yaM5XJTP1P+RsnAR11e8/uptwAVxs7T9yEZjg16LqP3ee2M7v9u4/yAYCcfB48j/1VoaTDC/yP45E6CvMzOk/5BQMYs0V6T8uPvgVzqfbP2CQlTBVf98/3A/8A95X0j85B9O+++XSP7QLXTJEPNE/rLCi706UfL8AUWNgY4GRP3itVwHASrA/z/oGPvYUuj+8liePGf3FP5Oj+U6OZK8/sU/0wVsjpz+2GjnnuqOzv8Lqi6pt6ck/Nqo67pt92D+mKR/CoxTePw66fT5N7d0/CS4bRHaA0j9qI0KfsADVP7X27znQKds/3x0+1kCi1D9HYWRxWnXSP+Z8r7I20MI/jEdyCqd7wT+mYY9w9k21vwjVmAy6ZsC/QaRCAhW8t79UwyoLHQ3Jv3/0VtKC58a/kDyX/Nny3L8eJBmHD27hv7aOolQ0ctC/P92VW44kzL/wl3lGLiPFvzMM/n/C59K/9Mt0Jg3W3L9xGNTq1+fqv59GtxL6WNy/xw/g+MYx6b8LtzXjwtXkvwZRqFKhg9i/sI/v6q/Gz78VIx1qz9nVv9gHOEgj0+a/XZJQEEBI4b+b8ilScFjkv4BSM8/Zkua/0iM522Dp5b9DNsy5VQLxvz98oaGb+vG/GAa3LVc48L+axg3k5bDqvyoTLULWGvG/G8K9RV5w7b8QNf4G/z/ivxdQnLx0n+2/0Zaade6Q4L/XkVycyDzmv1gZpAN2PPW/qe3POEM09781il6xbcz3v4687Kzhq/m/ScCO+M449796tb4NoOrzv8I4JQTvXPC/3dP9rAGe8b8kkSmUIlDtv2448bs8euu/rLZ7CB/z7r8i9MdnQSDwv9h2Iepmv/C/70Tv5W3H9L/HVFMAGxH1v6yJjkDu8PS/RL3IJ7jV9r8hyYXSB7D3v7V2l4bg3/6/98/L8YAu/r82jvhSOOAAwALZkz6q0gDAo7xuNyFnAMBy8Cz9XW7/v0OkdoQ1HQDALo42WBiyAMD+tAqwaK0AwK3oAapVIvW/oR8b3iSf978cIUvSHeP3v+AfwzTxO/e/6K45h4HN9L9nN70JnDP6vyszGssUk/m/yLTKx2Zm9r/Hb+hTaLH2vxxqMwuZK/i/m9o4whxQ9r/MNyDzzCf1vwZy3BaS+ve/tsySy/Sy97/jpTBUvN/0v66P3A+PLvW/r4gS4mwF8r94Q4323aHxv1uC+4X7jPK/AX5PtuB/878wy8HbRq7xv5O0Ct2lMPK/lHmhwf63878PslK0H3Dvvz6gz5fN3/G/1kukV5AL8L8mcaP5d4TvvwBqTgQxweC/Ka8zHArh4b8ZurtnUyrmv2dEjtl7Y+K/zr9QvlIn4r/xIOc0TXHlv7scf//rRuW/OLzcUAN647/W/jz02uXjv6W78tKA0+i/GzqEeAAl579RFFlBE0jmv9mwGJmyTeO/JoyWWBFF1L9rP1kJcZTXP8ilTQu1nNo/pqeQmcw15j8BqeqviajhP3uvMrcTYeI/6Krtkm4P5D9hzKwUVh/gP2OoZsCUPds/hzfW3ygb4z+YbLuWc/HmPw5UVuNlxeg/yoqstfml6j8HKKL9pG7wPwb+b5mE9ug/1xqRnGn37T+oD9W/EKzpP6gaUjToUeg/me/kmzD/7T8gkzp2cOfnP6zqgWzWx+g//mHFP/x65D+SuUgdFGDtP/amprWy8eg/EhNCTFKp5z+WA7JhcPDqP/c9e/h3W+o/hUXnntYT6j9+c7zGjO/lP3mc0DdCSuQ/6bsnPmhT5j867BHUmCfmP0vUYN7fgpC/xaZnEfGS2L/b+EuvYDfivwOvJcgdGs+/2r04E3c72L+gq3p+qBrSvwt8f2gNJbm/uBINu1F2u79lAvzzJS7Qv4Gx+u9doeO/Xfrqi+bS6b8ONw6X9Pzov63qaOtvP+m/Vt9ac4sQ+b/7Xy53A6Twv4OmuyNshfO/HXe0wcQQ87/A/Py5h5r0v4q5M/cw7vK/TNx5WCXI8r/r8LZFE/ziv8nnyEc7zuC/iL+enQKU4b/fPpOou5DmvzWfzSq5oda/8K5eRseqyL+XABTzPyLEv430WSYOBZW/yK40c4JiWj+Y8zcj3P6/v6stRGQuTsG/ibGuxa1NqT9ZyAysEs2bP5CBZ5UgXZG/YEqZnp8UtD9OduYLWamnvyghtowvYrE/KD4H4Lautj8jox2Nw1/TPwyI9NXzRtE/S4VRd1VZ1j++y7T26ELRPxjQdlOdarU/j+ASQE0FtD8VlJxFK+C9P6qxzRe4FMA/UYUNqNxUxT8m8iHMjxS9P/goFocoGNI/hL5JgtoK0T/FnIQjnOLXP1kVOLHUwNU/++laGP/L0z/7ksqFg5PaP3YWE8/C79A/t/FUlT2n2T8cPEAYYe3bPw7+Qwwt9dw/Rk1/Mzko2D8e0ce/XP7dP5+14GY9994/2MwrOQi36T/ZLjauZtDoPxKEaqUAIOo/P8dNq17s6j81oMkrd/zoPxkTlDKEheo/IUpbsVpq7D99gPhNZ6buP9DS+kuVT/M/hOsq4UDo8D+n3/jzoBLvPzGQv+k24uc/enfALALL4j/EnJLkMLfgP2TgecBOleU/MebAAQpe6z+MPXvpJUHlP5zhpHTO5uY/rxhEZNHR5z9KwAaeu7roP7r3/a2LZ+I/dWRfAYvp4D9bJypEYfHbP0ggtI2dA9o//klHZFs62j8dqaTB0DLXPznMzPZgI9o/CH6iKgxJ1z8v8XI+P4DeP5PHh5bTouQ/Ol2rdSSQ4z8j00jxHmvmP4ycipBPXeI/p7WnnlY25T/y2jif0tzYP/G+72X4mts/sufwVve52j+DHHYdtyzbPxQHtrhRSdo/t5Gyq3LD3D+Qv/siLM7dP85JEHF/COA/vJ5HZi4L2j+H6cdfxv3OP5Z0F2qLEtE/zBod4wnKzz+OXXw7XRHFPzd6nbtpIM8/EXhUDRoBxz/41IcjcpDBP67KpCvSrcI/D6mAiiRMtz9byRTunt3JP4H82eI0gMc/H3bnw9BK1T9pIT868pzLPxZtct/diNA/dD+Ub/Me0D/FIqgjkUnKP0JhRcwsCcc/9pcB1GQDwj8wVEzmk0TMP9Jfb7oNQNI/voTkjGql3D9l2mfoSH/bP8uTdaag4tw/57egq4X93j8UT3SNsqjePzvcNSJKQN4/VSBu1ASi3T/PSid7F5jgP7DZsQMC7Ng/89TbuLkt2D/kWKKrsDbbP7qDzNKXROU/u9RhBtzR5j9YcArj8PTmP1zNVoK9gOY/yygSCthEAUD8ponTDmH9P9A3EEzoxQBAvErcbwi8/z9MTUisTBkCQERSRIb0mwFACqTKW7H+AUCYsJKvRf78P10ZpCGym/w/X63try6x/T8ipPxGj7YBQLsaLi6n3wFAOLX8fRYoAEBIlHDNL/sAQET6/kCo1gBAOYlizezJAkBQHOdfikQFQBiqn5Tz4QRAyH3SUfAoA0AIrtidm/wCQP+ZTt1pnANAUdbLZpzMAkBpergHDJICQPgSQrsKWwJAU5sCDByEAkBpQuzuIAoBQBHQM/DIBABA7J3MLfmb/z9HqKQJi4gAQJpFKqBV4wJA9E3vM2Q1A0Adt45/PLsCQGrRUHU2aARAOWsXQ0+cA0BMpZEwwwEEQM1lJkoJRAJAJ3M20q5yAUCQAMRFYPEAQKmeDATjPAFAZh6vXzNNA0A5XPvlnu0BQE48yjHYKAFAoxltziVY/j+Ad9nLwIz+PwlgK9CsI/4/DvICyopc/j/7MPboUhr9PzBq+U9Vtv4/IN4aTdCR8z/axqIpLGXoPyrNRrOVs+g/N2/8ynrZ4T/Ik6HKxeTkPw60m/ZD5eU/KZ3EGBcR4T8mjEBlduLcP4kqC9h0lcY/P+i0V/JGzz/oOxvdqm3YP+RVSb7Ineg/RPz3witR8D9+DuIGh7vuP5hPg6wvbuk/Nv/um4ln4T8ug2y+pE7oP9iNOoYIqOk/cw9RAN9f4j/E3ElV+W/UPzU8XuUnsdY/GseJXa2K1D/eAvSKz7npP0xuZMal8uY/CJnZ/mRZ5z951vaJ03PvPzFi/2qbUew/F8d8Gpit7z+JW1TjwZ/oP9NaM+/mD+A/wXuo56Dl4D9kuLub5uvXP3fyY2MxBeI/dzM/JtIxzz9sX4exbhHgP3pjAxAtl90/VSINnCI54D+g1w9mGRzlP9C2DWrz++g//KCzPpxw6D83y/UbPdfqP1jZbru/Yug/DHUCQ5ca5z9vjJPhU2zxP5d5UAss/+w/BytI1F6u7T9szxzN67HwP1M7RO1YEPI/JXPrbOuN8j+wIFxXtu74P/xyiu3Uhvo/CI8BGBR8+z8WxsBHsDv8P+I4ijN1+/s/Pfw8Ib9G+T94rpWa8fX8P3M3w3x6cf0/v1qY/mP7/j+OtyRsF1cAQPfkm5WBqAFAhke7g6YMAUBroImqSTMAQEVT4VTHpgFAlWRvqRnJAUAF1w3ccEUFQC/cZPakZgVAturTWQf6AkBtIUgc58cEQJkMAcCZKwNAyL9SyUudA0Dz1AMGduMDQDxCMXhC4wVArzXGPKf8BUAldBKLI4EFQAOKlgurDgVAI6qzqs7TBkA64xUckKAIQPoGpFJbMglA0TCXSRR/CUBzGfwsJ+kKQPo3aMIR7ApA9XoZXosxCkCpSYE4ZEYKQEdXxk1izQpAOp6ZpyhgCUCI4O9FIgwFQK88ZWEBIQVA5bM4QiDKBUDttPGoid0FQG2DkLhvYQVAdX3Yz5ngA0DvLLsSswIEQIYhqNA+bwRAJ9nJ2LAuAkAiDmlRFb0BQJ3TgtfDuwRAT+CGGo7KA0DM3sgYUwECQKsTjeJi3gBA4HMkG9gnAEDhD9BpQk8AQKyPNiZhOgFAxpP7dqAgAkB8McTY+7QBQCGimUKxrQNARot9MvvABUDWBp/BXywHQBEZMOo4uQdATsNOr0V2CECiQ7JDw8EHQF718lW9pgVASypTheDNB0BE7azmO6sHQPWSU4N9BghAKPo9amotCkATzpRTU9YLQLT6hnDaqQtA2ZxiQAtRDECDU2PsoA8OQEZdtsm4OQ9Acqezt5D2D0DB552MbcIPQOLhRIBC+RBA7zLUCxsDEUDG7gL2hZUQQFEUl0JGBBFAdo3zCWLrEkC7eLSoF38WQMrQt3w0oBZAVbb5dPcSF0A0Y1nrxsoVQEklSDJL4xNA4wMOBsZbE0B0Be7I9yMUQM0nBzVfnBRAdgo6blVKE0DFnUKUSOsSQLxv61U47hJA0p564arKEkAbI6ys/lsSQHLmqtwh3RFAchL6xxzWDUDvPoPvhHYPQCLTW7ejLQ5AX8vzOlzNDkAe0+vW8CkQQIIuLzRWJhBAth93An7bDkBCAoJ7UJ0PQB7w3MOVOxBARXWU8AIjEEDZZvnIoiUPQH/HCAnjqw9ASFoiCw9YEEAhq2nNNRERQEuP36QhFBFAtWdIUhSOEUCKjBly8vcRQPjfImwzrRFAzS1gV2B+EkAt6FZs3tESQAlLExgHPxJA3qGRtQunEkBPO2JGIF4SQLno8gq//xFAz3ZWyGFMEkA4CPY/CeURQMJl5V7WWxJA7nEe8G78EkBuQVdglcoSQLxzNvQ1xhNATwusqS7IE0APzwivE/MTQIHLilQqyhJAbYCi5Gz/EEBVpbgxIXkQQC+NsXdFNw9AimI3PE/gDkDNSivDaXoOQMCCHKKJCg5AdGiJ3Ym7D0D8sBrTFSkOQESrQaDJ0A9Aroqx3wSBDkBlnqci2n0OQFRGdk7oFw5AD3X6JkElD0DUKPLbL+8PQGR/Iq1LJxBAZg1fCJw+EECsHQtUdGgPQKmtZUWlOg9At59vD3zsEEAg/TIDtAsQQL90Ad0LwQ5Aghi+Yw8vD0D6J/T6gV8PQBwok85cKQ5AL1dPBPpLDkC4RXCs26gOQIABKEUWfw5AkSrNyGQgDEBn8oViUBULQKoiShHa+QlA6Ob0fA94CUBgMA7sqtcJQLuyt6yrJwpAEYUWFGd+CkCvQZxxMDELQFSBBO5jyQpAO/GEzFxDC0B41ma7nbgNQJ/G91g35Q1ATNjZPFZbDEBW/1KrWTsMQCriALKqzwpAGHQcbXqMC0Dj0YtUPR0KQFLl6alWsgpAfBFbhhapC0AaIWb5XrULQJ/pJ2I+owtA7u9Ag7C0C0A96EoElycOQLrYgvOUtA1An/uzc6EsDkBMvbXZZL4NQDqu3wAHfgxAve3R65UICkCgH8gjnLIJQJlRLcnLzAlACQtp2prOBkDo/aBsW2AEQNOB0kMevANAwKE/gjmLAkAQ1BlN/24CQFOJanZbFgVAI4G9J+qWBED4En/mogwFQHxpgJz3BARA/op0JkS8BEDCJNp87VEDQFSlyqD5+AJAp/JnBVyGAkD/uTpYjZgAQD88zXPlAgFAtDYIqE55AECI+rLAV5AAQCCEENwBif4/m18BrpUv/T/poC1/Nmb8PyvvNx7Ua/o/KyMV67BH8D/ZghybL7rrP5qO3W8R3ug/06I1VkBY5D8MB6A/5wfoP15aUs9U+eg/uqDKgMHn6z+S38wZp37KP9EgeIPfA9Y/JkVsOTqX0T+mmpMNQqzVPxsQADrtksU/csxRB9B12T9CDqmpiLTaP5Qo8REYeuA/NRBXzGh/6j//2IETdKbcP71M9PblUtw/s4IwBHAr4D9DkRH8v9rjP4WTc5gY1eE/bmqHwnup6T8ELkNq0SXlP99dQNPmd9s/EBw68HZd1T8JXJyXq7zcP9NCe3o5rc4/BgwtZhRcsz+JPZu+uPXNP2ZrgcVjEM0/haYjf93Bxz+/a/uok/iSv4MvfWEF8NA/ZRdynzoZxL/xQo4zaaDEv5rLRsQIrsq/N2i1MfKm2r/YInV7rMDhv1VYONE8b+G/4OxJgeFM5L8pUWFWCDjsvwAGfKcVOOy/SPTVCRlL7r/fP6ToQQzrvz0ChXnP1vS/G+kjiLA89L9CPUZPBNrxv1YKrFuVcO+/goXHWHON47/0pnoYSyXnv9JbCn+zQea/a83AmfwB5L/h//ye7LThv2ysi651Tty/kCWEDMIi67/LVS23opznvx829VVVsey/cYROZyvQ67/e6Mm8dvDpv7GWkerqpOq/CvWpgh0G7b8DHOG8FtXwvy5wbUeUwvO/Wbr2hFuX9L/lroMwCH73v5Z9qxWjofe/heen7rzU+r/kz14Mxwj5v3LHoUQU7ve/HL5gZOwl+r87/VV31Ab4v2dtJFbX9va/KyLlydx99b9jtflX6nv0v9pFCQ6PcPK/iCVP8gcQ67/TQAaa6kbmv1dfaz1Zw+G/WUa3lh/c37/CilvX3O/gv1z31RrRmeO/h7dmA3MQ5781PgJgTbrrv9qT38ek8O+/fXQoA+0U7L8iz4SgysfpvwdDZzZL3OW/UcG8D6Md37/bH797Ddriv1xjsBptA9y/bHmu5rNk3L+PhTyKIOzVv6FAKgho1+C/jlygp+3O07+yCFEg4grbv4qgBc1McNy/JU9f9Qdk379YqM9vnZrnv1okQgdq2ea/ZedRLHVL478duDpEosvXv3ne4NJm0Na/HGYmCJQYwb8nfUcIoc24v6JCXe4kMM6/F200LzS0o79fMNFKhMKlv0zyytwm+r0/N4hSog4RxT/T3D+r6O7LP7NUgcUcV8W/0UTImjI5y7/I/sRA4xW6v5aEPH4ApYO/NREZtZeFyL+cAU8rqZjJv/lISZLgyKO/ehRwhFBrk794o4dTernBv+0ZkDm1jtm/Hc7ujG8r1b/q9q1nlA7evywazCkvr+C/qGt6kRsp3L9ZTQEuNS3ZvyPubEzSRtO/yyrrVY9Gwj+j8d1oB+W1P1xvFTS8wqY/1at/SMCg0j8S8SF2wL/PP7v3lf7vDMQ/B+PfKQT2qj+nN07BQpvlP89AMWA0Jd4/SZMuASYo4z+UKerXqULiP03WI+VAB+s/IhlN4Li/2z9YZQ5tpXXXP9HIQNnvW9U/VrN0Qh5U4j/mornKg6/xPzUMYcwN1/I/MO1lXI/V8T8fPr9b4oHwP3F3+KlszvM/WMNXHmEc9j/3ALUgdYryP6Rt3sa74PU/2NlrUGLC+D+LrrG7ACH4PwVJKfK5I/4/e2nQtbTr/D8GZMUPnQX5PxgkK1C54/k/quStbfqN/D/aHuuygqn+P3ZNzGFVpfo/RlNiVzmO+T86uk5ahSz7P+cRLb6ZnP8/MnaxUUeb/D9EFiu2Ksn+Pwo5FnR4rf8/yYJucRoh/z//ki+dWVkEQLqqtuJxTQJARIej/8ZcAEDKbKdaNJUAQHmj6tvZSARA07+BLVWhA0BaAwwjjnEBQG4dp7MBegFAPB/etWBYAUDrXFyehfEBQIkdJ/oIjQJAPcry0ZgaAkCKXcIHaaUBQORi+q6v9AFA1kL8qGsdBUBIwGYTK2wEQEdzzpe+0QNAadFz+f24BEDS5NIYOo4DQGRe0gXQ8wNA0CwCdGXJA0AFIxQeXt8DQLr2h9jgggJAl6Jnkw+BAkD5rMDABKIBQH7K/W+MjgJAqpl78jA1A0BH32UvI3kCQO4OkSpjHAJAHq2Wn+bGA0DmP6HxfCgBQAwfDTr/egFA6dh7DSGO/D9IC9oi/ar8PyuUCJKyXP0/hKJh1HTt+j97ZGqZ+Bf3P5DJsDXtdfY/6sHyXtGn9T858lRYI9nuPxzbj888c+Y/oeg7yWmF6z+WT4wUqUfwP9lDierN//E/JIsTvF7l7j8dWUxJpfXkPzUdhYdiIN0/XfdXxLYR3j/h6OVO2rjiP0i4+fN+18A/RqU7u5pdxz+ur6JC67rWPwKh3JFb0dY/qz5jodu+l78H546+zoa0P6br4BCAtLI/BjK/fdxexT8mwkOFB2DbP08uUK3wXdk/nvgkNX232T9Iwg15tRnKP5KXJKgMmso/iT/jJxklyj+5LEMyInfGP27EQ6NgKbc/QvgxBD6At7+Yryay54C9P1OOfE3T4L2/S6IicilycD/QMMU26BqRv9zoEfUJbKg/P1GGRI8Xdb81rFcBfnXUv1/lwyYt8Ni/5Lc+FPFg4r8Gdxmoo7Lhvz3Q9eZ5geW/zA3tOV/E579eWzj7fUbRv1yaw9qFebq/LkqtqypJz7938k0VNaezvxQpQrxnxri/aG1VHOdixr8W0gcPz4XEv39t58KgO9W/nmJzC2yR3r+Wn4CSEGDhv0R21Ko8uOu/81TJGGFh8b8K5dHKjf7rv8ePZ4zESOC/D+jiD3ai0r+wNuaDDKDiv1aFw58zf+W/WF2aEP9u278qKXtGH1vYv+v04xCLtNy/oudm85FW078Q+jSM4BDFv7ZaJQEJOtm/4NAGn9PV4r8KT9rRPkngv6HvUQod196/gc9m2qmB27+u/RJjwsbXvz5lFlZtUeG/FXycDxCe6r/KPL1kkk3pv4vX9HWRBO2/pNYKKezt779t4ttiQ53vv/f6RiEwk/K/pZohkl6q679O852xlE7wv58KLnCYvvS/aGB9lvjU+r+sapx9F/X5v+nnqBZzNf2/icznaevX/79JHmxl3wsAwDd5mah0wwHApXaUFgpR/r/RLcVPiDz7vyrHTO0RL/y/rWibHvje/b/+FkEjjBL1vzaU/M8HAPG/R4lipjSI77+ZRRXM5/zzv6dYwAXJzvm/mwzej4gV+b9rRZRItff5v7AHmuHgNfq/Q0ytv8dp+78KmF0uFq/1v7RVtKQikPe/BVuKGcgs+L+cg1WVxGT4v5EcIlUKpfu/eB49UJnw/L8BoRBj0Oj8v5Uj1CO5cPi/CrFbRQmr+L8uoEG557/2v1Y3hxuaffa/AAiB79qk+L8eP+KKZkT3vyANppK7hPK/LvxF2h378b+LbN7OBsvqvzYoxSIoM+y/FT5XZhwH77+itrOoYuXmv132fNqLcuG/LC5yxaJH47/DNVMInbHhvyGuGa+Ec+e/KVk3272A3L/702VJsA3iv8WfE1bp6OW/045beaaj5r8xl0FjNq7nvxFI0ZNK++2/f2/omaWk67/cfSZ7Kxjpv7QqL8G7u9y/RhUcDl5j4L/CZHwPh7TqvxP4ApiJIum/Vdb41VKK5b/Xe0rSdZPiv6686f1NR9+/aGFkTLmJ5b+poCngT3Dpvy6RoTfjXNy/7siB80ml179ncCddSlXiv7hku4SdxOG/6EEjDQxq4L/Ed70bZPDivzqYozjfnuK/WlFn6tPl37+0yBVYjlbsv4Wq3DPi3+e/aRt97wvS67+zaaB1gGvvv8DQUtyfofC/NR2D/Qix778gJUu0tBfvv92LBBXIgOq/xCfWF1gC4b9vRT1XqwDsv+V6yAefjOu/9y5JksaC8L87jiaMOm7yv5brY8tbBPe/TYuoE+fl9L/OqORNlLf1vzVDxmc09vS/9Ew0B69w8r9kMGfGTgjxvwUxkuCIz+2/bhkXOxNM8b8US5e3r3nxv52YWb2cHva/52561Scg8b+TAwpWD8jzvyS3N+R5b/O/Wmwzwbac8b8fM07xUa3yvwcGxum8wvG/M3/v2NIe8b/K/PoV0knwv9/yr4cEQui/Y9JPTJoh47+3NiKBBcHkvxUZwsw7nNm/OibzBKT92r8/1eX6vgPkv9FqLxepWuK/7aaPb1AP578jByAHNqDnv+Xs7I1Ntea/FUToFnrL4r/4ViSp/kzkv/f4vKWNmeK/fJpz/BKV479bXbkKuO3yv0gKpeNYP/S/+YRl9OKr+L8zEkPfZa4AwPBuo9beLwHASP4PdvvcAMBLLHrdTo8CwLVo7QPwxAHAWiZJMABNA8Cvy5Q4KN0AwFW8BV0MDAHAE4XjuGo2AsAiYj0q27YCwMP0YUP4zP6//0EVDYrN/b+oi0ulvT/9vwstxABxTvy/kz3qWo5F+7/xkrPmEij+v3RhXsnsTv2/7dfeXEai/7+j5juaLhkBwG9k5H7+DwHAz5yhfLAaAMD2y6nEJq0DwNRhTJAUiATAtmTr/TS/A8BVhHACHD4BwFKhho6Tev6/C7sA8v42/78kSPJqdav/v8QJepwhrwDAnwuFSY4MAsDb//kGnmUDwH8t6Wf8WAHAiUggH/6DAMC1/NQ3pRgAwIr1LEfLyf+/oVHj4E1w/b9AaCJR3Jj6v/KuxLIcuP2/DFCv4J2e/b94vXpQYOP/vznYtFARhADAvfatrtpz/7+oLEcPqwMBwH6dqwmJGgLAzx2tAJzX/79L1N8HoO7+v783pXGsg/+/g9cAc5QFAMDv7lrYGfcBwFLNTQ6ELQLAhpkz3ZjFAsAKjB3XYbICwJLNcvCOGwLA9uTsC1y4AcC7XKQ3p9sBwIXDdyXw9AHA1ENn1EpCAcC15Nsxi10BwLnjmnVTI/6/D22CWyaA/r9OmS/smvX7v1mElhL1kfy/PkiQ/MUT/L9YJ/PHmUX5v13SVHvyufq/g3OZPlV6/b/c2JsNPSv8vxcMSExj3ADA2amf03BiAMC2Rpctn9r+v5obP7+oZgDAx1Ph4+yzAMAUNsNBYckAwI9Zg0rb8f+/JOEwUo/6AMCIj7dHZRgBwFMWUJEspAHAxLAedSdZAcB5ROidnpIAwK4Onbz5EAHAaxXn87RXAcBIIajxRcoAwDNat3g6XQDALF+SxLy3AMABJJpfsv8AwD30UCjAsgHABf4AN2+SAsCqotwXBqMAwP67HR5Vqvm/5Zfl66Ia+L/xjJkvbsv1v5giWmcyru2/ABQyOSzX9L/GiprWj47xv9P8Ov1nM/O/d7nts1lz879DTnnoMwf0vyKkEdQ4Nvi/FZ44++1v9b9XCfwJy0v4v/1ZjDvBYPa/Iwf5xkzv9r+7mAxlqEr1v2Fy0iP5xfa/7FjiehX0+L/WDpAlKHr1v4KMJ6XU6va/ee979+zH9b+4WxrRY8r0v9Zntjvc/PO/E0g24XK19L8XVJiH/sL2v2/CN2eL2/m/QBvAyhTF97+ztQpVoOv0vw2E0RvK2fa/disqDHOZ9r/VQvEqYz33v/7/SF5xS/e/0zOYJrNG+795rL6crCb7v4H58Rf3HPm/DZYwD9k0+L8yFUzbnt/2v72rT1E1z/W/c5QImt0K8r+u9BHXat/gv2EDmaK2sOC/gCcvlXUu5L9TNmrO7czQv9T5TQc+TdC/seRBtJM+rT99+eg56TDMv5fGTXhI/dG/Et72fx+lwL9/VJLuMn3GP2CdlAEXica/spfD/xKxwb8lannUjM3Cv70YZlsxRLa/cLnxFeQYrL94LMREWaSlP3WLtG6eo4M/bReTlbXXtz8TVuptr9TaP4RD5KpeFd0/B72J/Rxk1z/t+M+qTB+0P+AWuCVvYNa/+Y6gZ5i/7r+shXgjQAnnvyTjQfUDVuu/Zz+iJss67L9sSrIbdV/rv9VfpylwROS/Gzf4chSv3L/1AJBD2sLlvzcAqkid3Oe/NKUCvyxr6b8TpsGqRHjrv9SyUqyWKOy/GHqTdAao9b8ZXlCv0LD2v5gNQZURhvS/Hii1F9lc9L/76W0yOHbzv66bSCe+/PK/fPUs1a16878LzxnpzwPxv2C/7AqjcO+/0W3R+Dtf8r/ByfDQlu71vwioDjSZVvW/Gm3oWtme9b/l/eZfc9fzv4TgP71KYPS/aLnulRr68r9by+uG9IXzv1zqUVJaVvG/Hl9LHcG6879Qpi37cdLyv8b91jjLjPO/LkWMAKAL9b9uQWVPPPXwv6Z1BYEGMPO/yGIuNWLc9L/rIS+KKL/4vw/eC8/NM/i/n8lR+oMQ+L/B5eJeXc34v/DDp7JhIva/sYMNfO0A9b81SRXWbJr0v17bu6q7Z+2/8WXoWIHu7r8qdIQRN7nwv5pG93A87u+/l+vTzE428b+Ycj6/dnbxvy0A2XvDwvG/+ti/vjm467+xYB54Tq3qv5ruRZ2pDue/5P0QGxec67+nomHF4jrov8ZnUUaffei/+36RWz5F6b8QQ1/Z2Cvnv8UfBmmoKea/caWlni0h5r+hORhNMQDkv+ebqIHmAda/KnsfHqTV1L8TbaQt+hy5v1DkvKQNu9W/gQaB1CWgw78DYoLiJrLIv9THOozGcNC/6jPTsRZ/xj+y65EBsLm0P8Bl3/X+W9M/bpoeNRcd5D9+/9lQMx/iP5NK7OwvL+c/xlcL1tih5z/wpwgqS97qP+sn1IfIbfA/wkukfD2A6T8PiS23grvqP+XKE5l2Wu0/APSFZ5Kf8T9tk4vwC53pP6QLvuHKeuw/ktrNlXi/7T9pqNCn9PnqP0+jYdut7+s/qOOdMgId7D8pEOR5xMLrPzbiAaWZ8uU/Cp2moHrg4z8bt/P8Fg3jP+z9086u8Nk/0oNu6Kbb3T+oYjShdnfhP821GGxAqeA/ms1jtLoy4z/dV1f3+bzmP2AYmrD1PfE/1vfaRemZ7D9QJmYdlMjxPygYBPcPc/I/pPVIH5vG8D+3+tYIMi/xP+pPWMku1fA/aPKy+kHU8D9UkjrJ1G3wP/KxZm83Xes/vVCT3cv16j+1IDJVRq7qP+kggWCLE+w/13ZOlGpr5D8awK8Pc8TiP7z9Tk18IOU/e3KEi+cE2D/8vyw/R9bUP0xCJM9fYtg/vRdDME4+2j/82FtZl7fXP830HmjvytU/UbnZJUShqj9jYH7+MyzIv7CcYCYctL6/h8QMb9dj0T/Li4dlsY3mP5EG824SRvQ/ieplQWdJAEBWyxeKCCv8PxN3ZskNbAJAGL3sVKdLAkB8tmHjEN0EQPZX4bg91wNAfB+Pc+jKA0A4fV4Sv/kCQFPk62NnRARAfX2WzzT3AkD2c3JdbO8CQOg1NLQbrwRAtB16MoW0BEDFEjpKPfQDQHn8djGZYwRAKD4OvArzA0D1wv4Gfb8EQJz21iADywRAers3tNuJBEAZ0JU/U4IEQO6VOdw6fgRA9jhSckb8AkCz11Wc1UYDQHnLSji90wJAui3jwLRKA0BGP8pjvVADQCZJZIkpSAVA+91pGi/ABUCWfqEo9TUGQAj9rxFjswVAmIH4hNAMBkDSMeK3a9YFQPfLP9EO5AVAkoZkxahqBEAKJbIJCmIEQGqKl3EW/gFAB68EZac4AkB38Rr9JIwCQFur4BZo8AJA9BUmEQC0AkDu6Epc0GIDQDbklFkcYwNAE0qlllLAA0CY7iuLAwEFQFDXomAt5wRApab7bvypBEC5IHV3SLQEQJFeYHFmzQJAa4+tyRIIBEAI1wPHidcEQGtZQhtsbARAW+PHb3RdBUCGFHlj4p8EQA9KiHIe1ANAGMhAE1SZAkCJULHo5ZECQBOLO7nWHQJALvAJgYFIAUCeQE3YPcEAQB9Q4/H/twBASyzzZFSgAEBSWpwiK8EAQF6NPIA7AwBAzTjJmsAI/z/mAfimyuz5P5kig/2VUvY/PUsNdBw78z93yyp9E3/yPz4uTAccu/E/F+o8riXQ8j9RAAJbmPTxP7A/NSwV7fA/iwDuUzWD6D+TPV/0I7DoPxv+yD1R2+8/9Rz2A3d77D94TuCuH0zuP4mYbV2PReg/s4QiaJCG5j/eu5xgQK3oP1ssitPV/uc/e1y50KNX4z8jzMp+q4zhP6ouhBy5Aeg/hjq8knwy3j+avpUHWKnhP6J9QVnXpeE/XJ61Oa993T/lNh3xFb7hP41sUzdk0+I/8dJBREUv3z/kRooQ8fzZP54NiDYobuc/MxvtswQD7T+qf/aY44fsP9MZGmx4GOw/EPwI4Zjk7j91epii0vHxPwT9p/7ysO8/qpKbTTzT8T+xLJmCu9fwP0wpNgTfOPA/p9lUHn0Q8T8NyMlXCt7tPysT/AYRR/E/mjqV5NR/8D9/+8TgmTnyP6WGkyV66PQ/XkoTjZxH9T98XpnFPRH0P6VWg/6ijfU/7z42L/3e9T+6zna1T4TzP/BMnr1defI/aXNU2bG19z8uxFNiQpz3P2iW6gTt/PY/pDXNS+mm9z8agTeGvPf4PwQhuhbYRPo/ld8uWbtzAUDBpJa/BykAQJ5OSfJTfP4/mcIjYE8l+T+r5M8IOibyP+3K3uTnle4/t9L1KevY8D+ZKmAGZBrsPzdWvdN3L9k/VjmyHFcA3j/vf+sYLsnSP8uZKWzcIMU/7G4dw2zXtT/WLQWrT4fTP2WvqHZCCqU/qCSA6F1B0D+l7yQf+sHQPzcyICK2fsA/ZGkI3IRK1D8cephSX5XYP2oU9mJfHJA/fzDr14gfuD/VqdRrTc6gv74/J/ekHJm/FqsTH9bEmD/8BurDiUzDPwvI7B57qMg/5Y0A1gucwj8HVqsO8dnCP+DhIAIwe8U/lIA5/t5XxT9OjzOpHhGoPyWgXmCzLc6/IDd6KecY27/0k8c4CEjgvyr80/yIru+/FZBMI+lk8r9uhTERdajxv+6Vi3DmR/G/XG+7Jnl57b+bZW9imp7yv3hQmtxv8Oe/mCjVIdDs5b+74QwOGoPfvx4SUELjcuS/qeiakHkF4r/XH9cf1V3hvxU6NGg3dNO/e0DAu2eX27/ITvp3PqDvv7PTnWP5uu+/USv//FyJ7r95d7hWdt7tvyEj8L7bL+e/r4pwtuH+67+x/PxfUqnuv+5MQT8uaOm/q6bmz7Oi8L+B2moSfPnsv8+aWcRuQOq/MjhnkSkX6r+YwqmOCvjjvwP1/stoaOC/nbWtQalk0r8x043rR3TMv5LYVwJoFM2/AHiy0Xlo0b8un2FFpAXSv1/h7XbxpcC/nxfuovd9zr9X2/pg5pfOv7h9QZOFBdC/ZJDsnnbQ079ZIIQnvxjTv9kfd5+n+NO/dLegyVNB27/QD2uR/o3GvxZ2CfmkM6W/2oR263ehwL/NEDDODZ/Dv7fjGZSOV8q/2gqp00nTzb+Eq1eUIJ/Pv1X8d4DiN6S/FXEGt8goob9am9YI/ZKGv8k5StoQJqM/R/2AINDNkj+Bvwa0RdTRP0KJu0R2Pca/4QbpkyEUs79NdkDgDE/Dvywz/YnAT72/jenYrZP3rT/u0KRSI0y9P2H4wtQ+eN4/8DdCQi2H3D+Bb1/4WsbkP3oYHjbj2eM/et7f8vu95D9siaEwRvbkP/Gb4l35EOc/RTLL2CzS8j+LJc3DNhvwP+PfnFnKMug/EFSzfTzT5j/CkPev9l3fP89pl9AY4+E/lzYQ3YU35T+Quiic/H/mP5OysriFk+Q/5k8N/7217T9OP0I7mv3nP8wtC8+PduY/tQ5VVv7U5z/NskB9hWjnPzCX1HKIleM/5hiQEEjL6D+dB+gQNP/rP6fCpAT3SPM/Trqtjz+J8z931+6lsjHzP5mC4p6kY/M/3pXBTV7X8D9XaqtfnjzqP1pME+zMHfQ/5sHul3c75z8wQyfARMnwP67fJpro4vA/e2SUJFI68z/2ZVfoZtXzP+oGrcmR2e8/QTfwJrXq8z9WUi8BhPHzPz6axHl0rvQ/q8k9exZY9T/g8WBBS3fzP0Ih2al8EPY/hUn6eMpl9z/T0kIKAgn3P8xB0mMDJfc/OiZUf983+T9xVJfXyQb7P6AIGw7qifw/3F8nhyt5AEB8KKHU0dIBQDr2DLO4WgJA5GvnHZnJAUDaKGXhEeECQFNzOoCCbgJA5WRA19J9AkCU1Xfj5g/+P5IjZ6IXwPw/mrbs9+EqAECdRrgcaYUAQLIpUbzmnf4/DRfSma46/z+2W7Hp+qL9P2pMwFtYz/8/SmQRXcvK/z96Ltg/jgQCQNHZtUd4bgZA6dKcsfbNB0A5KIB6P2wHQKFfFKXVYwZANDCgUE0mB0BjQpIV8fwFQEe3/2OfPwZAFRnCpEbKBUDYexdvxGEFQF7XhdXvhAVAsc3xsEp+BUD1u/52hjoHQPAoAd4tyAVA0jiwT4jtA0B1O/TEqx0IQEh+B7U5WQhAH5hmYaIGCECfK+hdoskHQFYmfcJuZwpAf9rgt2CPCUCDE9wBChYKQO4iQqdQ/whASVEMn44eBUAr6KGKFCAFQL6oL5w8EARAxiT7p9MHBkBEZ6P54pcFQGjhbXD7gQRA/lmBYOVNAkCiLpVBSo8CQDDdLUMXrQJAA0er1/6aAkAd0bR2f63/P2UrX1Be//4/NKoLdtC8/z+SEqsdyqcAQLjzn+q8YgJA+y03qkCwAkBlEsXqxSMDQE5hkcj6OQRAz7qY30AFBEAvom62XG0DQKxt01b65wJAvKLOrIowA0B/t6fiUegCQIGSuGI2DwFAgxxQ7trbAUA78unpCW8CQKt9qe10AANAxceh53eBBED5eF6RZj0FQKqM7uE0vwVASWx0n/I/BkBFfji/fBsIQApVT8sNOghABW7ov96aCkAMZvJTMuMKQCiOexuh5gpAKewsUZ15CkCaO7+HZGMKQH+k2NY5XQhAGs1vP2juCEBLXPeWM68IQAZsz8/PpwdAtbco0zjiBUCfcQu4CDkGQHy5OTq/PwZA48KFMbpJBUAhTuXaLwkGQPS0fOkJAghA6ZS8v+59B0Df3cbCS5sIQJ0GHmUpGQhAV3bfisxKCEA5hbGuM64KQHYfl0z5KAdApR9pykiaB0AKbcBqS6gIQCm3TZ8hpwlAYfoWLJ5hCUC8Z6cTirYJQCvivSYLNgtAX0sn0y5oCkDzNhXnxvwKQIT3l5sD+ghAzHwTNy8pB0B695JIqK0EQBqAr3U6SQZA+rfFEzpkBkCgg5rQ7aEDQKoX2f2IQgRAMie/Dc2vBEBNYXo81EcDQGNP1xEmcgNAqF1rC148BEAxinHE52kFQD+V3CQkMQdAVU378KOFBUDLOfq78UgGQDqdrtvMcQVAmhgGzvo+BUAfPMVPWFoGQBBXZsJptAVAClhh2be2AkCA7OSc1/YCQGqeCJkoSgRAvhO4qPIcA0BUmUMe1fYCQIzCgDoDxQJAOT0yRWZKAkD70VkRYO/+P6FY+Rr6awBAL9ZJv4yGAEBTKNuHILL8P6xDglF0sPk/HR9Y1keE+z8v3mXmYk/9P1oTeqWoYf0/a/3LJjVQ+D/0ZbDwXmj6P49Bz8gfivw/g69jTqY4/T9mpnkh6Zr+Pw4uLW6li/4/W9ayLXms/j+Qm4KjoU/6P3GJUjBgMfo/6mZAVdI5+T9r2jFlTUT5P/G1c5n1FPo/u7o0TEru+T8zqVe8jgv4P9008/ln5/M/Oa83YPIj9j94/LVS47/6Pz2R28e5rPs/TGPi/1ym+z8PPjM7cgH4P/KJIQqG/PU/e9TkfLgL+D+ZAC0kwAH4PzFq1wR9jPU/Ip3kAi3P9T/ERu3GQpP2PxoE+NoN9fM/iOQn48Gx8z+6BVi0yob3PxtJqs002fY/LyL/9MpF/j+cqqJEhC3+P5bc2CDtOP8/kOqfySY+AUB0pbnh8iAAQBO0zUwV6/8/q2FYdS6YAEAMD3IDX5kAQA3XVOtO6QBAEagq3y2kAEA2Hzyl2t8CQCgktOBrCgJAbJJKat18AUCy83AzBf0BQCmUESh8IABAnLYcqa38/z96x63dUhUAQFRgBlrPS/8/iLvsfOe6AEBzR28YoUQBQIfRzlo4uwBAm08McRfk/z9OfWxkWxQAQO6sTk7NkQBAnKZ5GNVxAEAcM5YsVAD+P+CSGodZEv0/gs27mwol+j/qryNWMdn2P1wwsQroKfY/A1IdCX3k9T+siOOHZozzP0gzUkkKc/I/pbyD3Lov7z8TvdDvMqDuP0zLyx4Jh+w/zkvZmR4k7j81O8z7zLHqP/8FhoNcP+U/sHq+j5xA5z/Oa8nlFT3mPy6rCYr7T+k/KscGWNQA6D9LZwUT3BTnP3Rg+Zz8cuo/skYV/MP64z8/ExfCnznYP8B/jCEt9MK/a3gCjWoz0r9aLWtvpFPZv71S6PQfBc+/9+SIGTXW378Udr1pf7jpv3POmv7I6Nq/ddOtDABm478U+ldSvS7mv9mxcjibyee/iZQ7cjDV5L881siZgBfivzemjsAVdt2/hWKdrLH12b85DjKnr03iv4iTPQTRyN6/QSwa42BPxb/c72k/BRfAP45Gn2AtLpS/+LvMbyGbXL/ntnyF0JjRP8gFL1yius2/qZmdk2lpmb9/OJ22xiDRP6hTjy+/fc4/a8sHZ9apmD9mqVhwVo7Sv6j7JiOBtNW/IFI7qLHu2r+tj8uhYEzdv3HRSWlRBua/sp90dLFZ579wjh5yuNvwv9oUhLIvIfS/S+alMYRS6b+CN0K7qlztv8/ihZFKeN6/L9lWG3OD37/OYArQZOHhvzfaupKi/+e/HkYP+6lJ67/rvw+MokPjvzvWlxqcuuq/xYt2EqeA7L8GCy0tzFfjvwOOO0eceNW/z+g9Euyt4b/BsdVFOvjTv5e565AtK9i/1+iGYW4mmL97HmSsZE7QvzbMiwGbRYA/zMy9eoeTsb8Jdh9zXQyrvz9PK3rYrtK/uZkF8BcN4L9Kxx6pRUDZv2qL8NeIZdi/QfRlJkNy1r/2xRiaUKbVv3EoDtxGQty/mxQsnPR11r+jGdTPOVLQv4xG+ltTHqG/cuUCn0xGz7/DlmI+4Dfnv3PYyatsF+m/ZljDq5t357/nDYUCMODev7bPWZtVxte/8Ce3NRrz07+tOD1Dh/7Yv6zOga/t6J6/y+/zZADIsr+UtTpv9NTHvxCGRWa+3te/o4dIzecCu7+L6RcALG3Xv8E4SlaSqci/A0QAZ96l07+yoojoIyzSv4jvEiso6Mu/C5GwgIxR5L8+6V3nlwXev5OOgsajH9+/e5/b6Yfhzr82lBY9Q4XOv7KGlcGMMtK/xodcXiwF0L87/gigjuDev7pIznJn9+K/FZGdcQze4b/0D4EIU13jvyAcywcrCNy/h7uUoBbp3L8j490JNnXZvyNR6oaFleC/z8lrUn/l5L+Cn/OVdNTpv6z3fZT85+m/ao3CkbQg4b93JQY0hV/ev56fMByRx+C/mTW3grwM0b8OEyWe8NOnv6zPf+9Q/bG/0DnzonTdkj+4gY1/NWvCPwd3k4y3QMA/AEMu+v3SwT8wWg8jFdKiPxY4HOOfDME/eA2cp4qdtD82QLdJTFDLPyAIPhismMQ/6hlbFlaAxj8QPfrOm3XUP5yIMXXMy+U/3tS3sFXy5z+6IwfuOKLpP7itf90NFeM/NjOxrSS05D9wrPJjedviP8MMdHsEeto/uV+wNl561T95lkneaDDgPz0nEVppnvA/6H97Kl0d9T9FZmfA6ij2P7CRWO1XTvQ/iT1aHwUN+z+ntAr3V+j/P0LLfT3UtP0/NxcnszkIAEArpvdIBbf9P/wU6AiH3/8/hkI/rwfq/T9ns7jhJZP7P3HGzyD/4fc/TipPKToF+T+fxA14kqP7P31Zi55Wtf4/H2lflM4+/D/aBHxy39j6P2eeicns+/k/KYx1loWy9j/PJZcCOaT3P0MDl9yzGPs/ACXF0EFu+j9SNrx8YI75P5yThlB16Pg/gtg6iHAN+T9MPPkf/or5P5BscjCXUPo/rZsDEvUK/j9UoQ45M5v7P7LuVcEhZwFAOKZnWFLaAUA0qQGhngsEQLo0Zq+CsgVAEl4u960dBEANVvULPlwGQCQ520/u4AJA4v62sMsABEBPWi+Am+wDQKlrKS4prwZAXpkfBrjmBkDefa8nmyEGQNYrcfscugRAhycormx5BECRaa6Gz7UDQHjPEN+ZGANAeXZ2wUTeAkAyxa91hAYCQHBYv5Sm2QNAtim/4yHIAkDBTUUaTMQBQHdrtlMK7f0/xKibBPKn/j+JbXOv2gX9P/5M6fJAKP4/G6zCLPrrAUDIXKHho7ACQPqAep16cQNAFcNcrGUjBEA+npOrjUwEQHiioSVumwVA6lVhFv7VBUDV3ULleK0EQEbGMJQVdANATjOrrHGpA0BulRJhGW0GQBl5xhU/OAZAeRMD+YyqBUB9LKjJuToEQCnoN/oengRA1spOIs5UBkBNGRdtzHcFQGJSqhgzngVAu4E/I4f/BUCCpL1zTSIFQCfMEcNDPAZASnswdpRcBkD/teOlW3YEQLJCtFnIxgNA9QOKc/jxA0A6gRjdBsYDQGLZm/GyxAJActg/8z68AkBy4+hRc9MBQJybMU3XfgNA5qoEPCixAkB1MgZohFkBQNXL3DT6jwBA4BfUuJvg/j84HFCK/GACQAsybvnjmQJAiaOoY4cyAkADsxlThRoCQKhjNYCKQAFAJSLJh703AUBDUswXOMMAQFB2sDu1iAFAUhzD9n7dAEAYFtd14s0CQEJACNT9dwJAvDyZxSqCAUDO9uq5SxABQK/Z6xRHrQBALH5LVdNa/T9B3zjmzfP7PyT9UNU4L/w/j0hzBTfW/T+fdW5QdrL6PyvpModuJfs/214izrUi+j+/SC48h6X3P3X5B9t0LfU/ahE2Yf4T8j/ZkPWZS27wP+R1wxm+7vE/TelmArAB8z8R8o4nmjf4P1yEBjlR6u0/NISsG7s86j9FwXvw1TbwP1B9uE2n4vE/JMxSiPvk7z9a4YD3ok/vP/LlENaFsuY/FcV2EObv5D/Kbq8AOS3pP4BR8UPjO90/QRZTYxz60j+kIy8pJKraP88hVSZjENs/UN3zXYPUvT/F2haizqfRv1fz9UdW+9O/an6nldeEy78d0IOyRAzIv5I+ptbU6dm/kVYlDtH72L94zHzuAe/Mv5Gui3grbce/eQg0rIDf0b9OsfDhCXvav+rO/nLHsuO/lDfU1ehP6b/g69cy+ZHqv8SyjAWAbeu/HTsAq3yl47+P8ofAEpnZv4r+qyXxdei/uxlDeI3K5r8ZELIuEWLov/ubCtq/aOe/kVls8Rfr8L9gANBGiaPtvyhmNU7Jo/G/Lv4r9L1G6r8zu8NnBSnsv6EEeVEMH+q/1FMC0ZbM5r9+bcnE/2HrvxohmRwboOS/uoKbtdf95L81xHQywGrrv1SWZFD8Rei/Vpk89Y8l67/szWMHuPLpvwseuO0CIu6/4xF1WeNx7L/EMpZo/TPivy6PD6mCdNO/1yydoaWWxr+4FokraVXDv7x8LRxinMC/TWQwJ4jFsr/BwM79fUN7PwsWklPMYcy/5mQyEgNO0L+Euv42ZvWUP3X41Jc1pL4/JGTEyJ8alj+PcKwyQZmZP+wVZq9bI7c/qZLZIZ5hwz9AFY1JDQK9PzQlGUlIK9I/jQHG+vh5yz8B7tRTAjnSP1/vFFCwV9A/KCHbQnoxmT/DNSso0ojUP7RAV0ZmjNg/+5K3DwWn4D/aYkwJW3fZP1urMbFSQNk/",
          "dtype": "f8"
         },
         "y": {
          "bdata": "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",
          "dtype": "f8"
         }
        }
       ],
       "layout": {
        "template": {
         "data": {
          "bar": [
           {
            "error_x": {
             "color": "#2a3f5f"
            },
            "error_y": {
             "color": "#2a3f5f"
            },
            "marker": {
             "line": {
              "color": "#E5ECF6",
              "width": 0.5
             },
             "pattern": {
              "fillmode": "overlay",
              "size": 10,
              "solidity": 0.2
             }
            },
            "type": "bar"
           }
          ],
          "barpolar": [
           {
            "marker": {
             "line": {
              "color": "#E5ECF6",
              "width": 0.5
             },
             "pattern": {
              "fillmode": "overlay",
              "size": 10,
              "solidity": 0.2
             }
            },
            "type": "barpolar"
           }
          ],
          "carpet": [
           {
            "aaxis": {
             "endlinecolor": "#2a3f5f",
             "gridcolor": "white",
             "linecolor": "white",
             "minorgridcolor": "white",
             "startlinecolor": "#2a3f5f"
            },
            "baxis": {
             "endlinecolor": "#2a3f5f",
             "gridcolor": "white",
             "linecolor": "white",
             "minorgridcolor": "white",
             "startlinecolor": "#2a3f5f"
            },
            "type": "carpet"
           }
          ],
          "choropleth": [
           {
            "colorbar": {
             "outlinewidth": 0,
             "ticks": ""
            },
            "type": "choropleth"
           }
          ],
          "contour": [
           {
            "colorbar": {
             "outlinewidth": 0,
             "ticks": ""
            },
            "colorscale": [
             [
              0,
              "#0d0887"
             ],
             [
              0.1111111111111111,
              "#46039f"
             ],
             [
              0.2222222222222222,
              "#7201a8"
             ],
             [
              0.3333333333333333,
              "#9c179e"
             ],
             [
              0.4444444444444444,
              "#bd3786"
             ],
             [
              0.5555555555555556,
              "#d8576b"
             ],
             [
              0.6666666666666666,
              "#ed7953"
             ],
             [
              0.7777777777777778,
              "#fb9f3a"
             ],
             [
              0.8888888888888888,
              "#fdca26"
             ],
             [
              1,
              "#f0f921"
             ]
            ],
            "type": "contour"
           }
          ],
          "contourcarpet": [
           {
            "colorbar": {
             "outlinewidth": 0,
             "ticks": ""
            },
            "type": "contourcarpet"
           }
          ],
          "heatmap": [
           {
            "colorbar": {
             "outlinewidth": 0,
             "ticks": ""
            },
            "colorscale": [
             [
              0,
              "#0d0887"
             ],
             [
              0.1111111111111111,
              "#46039f"
             ],
             [
              0.2222222222222222,
              "#7201a8"
             ],
             [
              0.3333333333333333,
              "#9c179e"
             ],
             [
              0.4444444444444444,
              "#bd3786"
             ],
             [
              0.5555555555555556,
              "#d8576b"
             ],
             [
              0.6666666666666666,
              "#ed7953"
             ],
             [
              0.7777777777777778,
              "#fb9f3a"
             ],
             [
              0.8888888888888888,
              "#fdca26"
             ],
             [
              1,
              "#f0f921"
             ]
            ],
            "type": "heatmap"
           }
          ],
          "histogram": [
           {
            "marker": {
             "pattern": {
              "fillmode": "overlay",
              "size": 10,
              "solidity": 0.2
             }
            },
            "type": "histogram"
           }
          ],
          "histogram2d": [
           {
            "colorbar": {
             "outlinewidth": 0,
             "ticks": ""
            },
            "colorscale": [
             [
              0,
              "#0d0887"
             ],
             [
              0.1111111111111111,
              "#46039f"
             ],
             [
              0.2222222222222222,
              "#7201a8"
             ],
             [
              0.3333333333333333,
              "#9c179e"
             ],
             [
              0.4444444444444444,
              "#bd3786"
             ],
             [
              0.5555555555555556,
              "#d8576b"
             ],
             [
              0.6666666666666666,
              "#ed7953"
             ],
             [
              0.7777777777777778,
              "#fb9f3a"
             ],
             [
              0.8888888888888888,
              "#fdca26"
             ],
             [
              1,
              "#f0f921"
             ]
            ],
            "type": "histogram2d"
           }
          ],
          "histogram2dcontour": [
           {
            "colorbar": {
             "outlinewidth": 0,
             "ticks": ""
            },
            "colorscale": [
             [
              0,
              "#0d0887"
             ],
             [
              0.1111111111111111,
              "#46039f"
             ],
             [
              0.2222222222222222,
              "#7201a8"
             ],
             [
              0.3333333333333333,
              "#9c179e"
             ],
             [
              0.4444444444444444,
              "#bd3786"
             ],
             [
              0.5555555555555556,
              "#d8576b"
             ],
             [
              0.6666666666666666,
              "#ed7953"
             ],
             [
              0.7777777777777778,
              "#fb9f3a"
             ],
             [
              0.8888888888888888,
              "#fdca26"
             ],
             [
              1,
              "#f0f921"
             ]
            ],
            "type": "histogram2dcontour"
           }
          ],
          "mesh3d": [
           {
            "colorbar": {
             "outlinewidth": 0,
             "ticks": ""
            },
            "type": "mesh3d"
           }
          ],
          "parcoords": [
           {
            "line": {
             "colorbar": {
              "outlinewidth": 0,
              "ticks": ""
             }
            },
            "type": "parcoords"
           }
          ],
          "pie": [
           {
            "automargin": true,
            "type": "pie"
           }
          ],
          "scatter": [
           {
            "fillpattern": {
             "fillmode": "overlay",
             "size": 10,
             "solidity": 0.2
            },
            "type": "scatter"
           }
          ],
          "scatter3d": [
           {
            "line": {
             "colorbar": {
              "outlinewidth": 0,
              "ticks": ""
             }
            },
            "marker": {
             "colorbar": {
              "outlinewidth": 0,
              "ticks": ""
             }
            },
            "type": "scatter3d"
           }
          ],
          "scattercarpet": [
           {
            "marker": {
             "colorbar": {
              "outlinewidth": 0,
              "ticks": ""
             }
            },
            "type": "scattercarpet"
           }
          ],
          "scattergeo": [
           {
            "marker": {
             "colorbar": {
              "outlinewidth": 0,
              "ticks": ""
             }
            },
            "type": "scattergeo"
           }
          ],
          "scattergl": [
           {
            "marker": {
             "colorbar": {
              "outlinewidth": 0,
              "ticks": ""
             }
            },
            "type": "scattergl"
           }
          ],
          "scattermap": [
           {
            "marker": {
             "colorbar": {
              "outlinewidth": 0,
              "ticks": ""
             }
            },
            "type": "scattermap"
           }
          ],
          "scattermapbox": [
           {
            "marker": {
             "colorbar": {
              "outlinewidth": 0,
              "ticks": ""
             }
            },
            "type": "scattermapbox"
           }
          ],
          "scatterpolar": [
           {
            "marker": {
             "colorbar": {
              "outlinewidth": 0,
              "ticks": ""
             }
            },
            "type": "scatterpolar"
           }
          ],
          "scatterpolargl": [
           {
            "marker": {
             "colorbar": {
              "outlinewidth": 0,
              "ticks": ""
             }
            },
            "type": "scatterpolargl"
           }
          ],
          "scatterternary": [
           {
            "marker": {
             "colorbar": {
              "outlinewidth": 0,
              "ticks": ""
             }
            },
            "type": "scatterternary"
           }
          ],
          "surface": [
           {
            "colorbar": {
             "outlinewidth": 0,
             "ticks": ""
            },
            "colorscale": [
             [
              0,
              "#0d0887"
             ],
             [
              0.1111111111111111,
              "#46039f"
             ],
             [
              0.2222222222222222,
              "#7201a8"
             ],
             [
              0.3333333333333333,
              "#9c179e"
             ],
             [
              0.4444444444444444,
              "#bd3786"
             ],
             [
              0.5555555555555556,
              "#d8576b"
             ],
             [
              0.6666666666666666,
              "#ed7953"
             ],
             [
              0.7777777777777778,
              "#fb9f3a"
             ],
             [
              0.8888888888888888,
              "#fdca26"
             ],
             [
              1,
              "#f0f921"
             ]
            ],
            "type": "surface"
           }
          ],
          "table": [
           {
            "cells": {
             "fill": {
              "color": "#EBF0F8"
             },
             "line": {
              "color": "white"
             }
            },
            "header": {
             "fill": {
              "color": "#C8D4E3"
             },
             "line": {
              "color": "white"
             }
            },
            "type": "table"
           }
          ]
         },
         "layout": {
          "annotationdefaults": {
           "arrowcolor": "#2a3f5f",
           "arrowhead": 0,
           "arrowwidth": 1
          },
          "autotypenumbers": "strict",
          "coloraxis": {
           "colorbar": {
            "outlinewidth": 0,
            "ticks": ""
           }
          },
          "colorscale": {
           "diverging": [
            [
             0,
             "#8e0152"
            ],
            [
             0.1,
             "#c51b7d"
            ],
            [
             0.2,
             "#de77ae"
            ],
            [
             0.3,
             "#f1b6da"
            ],
            [
             0.4,
             "#fde0ef"
            ],
            [
             0.5,
             "#f7f7f7"
            ],
            [
             0.6,
             "#e6f5d0"
            ],
            [
             0.7,
             "#b8e186"
            ],
            [
             0.8,
             "#7fbc41"
            ],
            [
             0.9,
             "#4d9221"
            ],
            [
             1,
             "#276419"
            ]
           ],
           "sequential": [
            [
             0,
             "#0d0887"
            ],
            [
             0.1111111111111111,
             "#46039f"
            ],
            [
             0.2222222222222222,
             "#7201a8"
            ],
            [
             0.3333333333333333,
             "#9c179e"
            ],
            [
             0.4444444444444444,
             "#bd3786"
            ],
            [
             0.5555555555555556,
             "#d8576b"
            ],
            [
             0.6666666666666666,
             "#ed7953"
            ],
            [
             0.7777777777777778,
             "#fb9f3a"
            ],
            [
             0.8888888888888888,
             "#fdca26"
            ],
            [
             1,
             "#f0f921"
            ]
           ],
           "sequentialminus": [
            [
             0,
             "#0d0887"
            ],
            [
             0.1111111111111111,
             "#46039f"
            ],
            [
             0.2222222222222222,
             "#7201a8"
            ],
            [
             0.3333333333333333,
             "#9c179e"
            ],
            [
             0.4444444444444444,
             "#bd3786"
            ],
            [
             0.5555555555555556,
             "#d8576b"
            ],
            [
             0.6666666666666666,
             "#ed7953"
            ],
            [
             0.7777777777777778,
             "#fb9f3a"
            ],
            [
             0.8888888888888888,
             "#fdca26"
            ],
            [
             1,
             "#f0f921"
            ]
           ]
          },
          "colorway": [
           "#636efa",
           "#EF553B",
           "#00cc96",
           "#ab63fa",
           "#FFA15A",
           "#19d3f3",
           "#FF6692",
           "#B6E880",
           "#FF97FF",
           "#FECB52"
          ],
          "font": {
           "color": "#2a3f5f"
          },
          "geo": {
           "bgcolor": "white",
           "lakecolor": "white",
           "landcolor": "#E5ECF6",
           "showlakes": true,
           "showland": true,
           "subunitcolor": "white"
          },
          "hoverlabel": {
           "align": "left"
          },
          "hovermode": "closest",
          "mapbox": {
           "style": "light"
          },
          "paper_bgcolor": "white",
          "plot_bgcolor": "#E5ECF6",
          "polar": {
           "angularaxis": {
            "gridcolor": "white",
            "linecolor": "white",
            "ticks": ""
           },
           "bgcolor": "#E5ECF6",
           "radialaxis": {
            "gridcolor": "white",
            "linecolor": "white",
            "ticks": ""
           }
          },
          "scene": {
           "xaxis": {
            "backgroundcolor": "#E5ECF6",
            "gridcolor": "white",
            "gridwidth": 2,
            "linecolor": "white",
            "showbackground": true,
            "ticks": "",
            "zerolinecolor": "white"
           },
           "yaxis": {
            "backgroundcolor": "#E5ECF6",
            "gridcolor": "white",
            "gridwidth": 2,
            "linecolor": "white",
            "showbackground": true,
            "ticks": "",
            "zerolinecolor": "white"
           },
           "zaxis": {
            "backgroundcolor": "#E5ECF6",
            "gridcolor": "white",
            "gridwidth": 2,
            "linecolor": "white",
            "showbackground": true,
            "ticks": "",
            "zerolinecolor": "white"
           }
          },
          "shapedefaults": {
           "line": {
            "color": "#2a3f5f"
           }
          },
          "ternary": {
           "aaxis": {
            "gridcolor": "white",
            "linecolor": "white",
            "ticks": ""
           },
           "baxis": {
            "gridcolor": "white",
            "linecolor": "white",
            "ticks": ""
           },
           "bgcolor": "#E5ECF6",
           "caxis": {
            "gridcolor": "white",
            "linecolor": "white",
            "ticks": ""
           }
          },
          "title": {
           "x": 0.05
          },
          "xaxis": {
           "automargin": true,
           "gridcolor": "white",
           "linecolor": "white",
           "ticks": "",
           "title": {
            "standoff": 15
           },
           "zerolinecolor": "white",
           "zerolinewidth": 2
          },
          "yaxis": {
           "automargin": true,
           "gridcolor": "white",
           "linecolor": "white",
           "ticks": "",
           "title": {
            "standoff": 15
           },
           "zerolinecolor": "white",
           "zerolinewidth": 2
          }
         }
        },
        "xaxis": {
         "title": {
          "text": "Sharpe"
         }
        },
        "yaxis": {
         "title": {
          "text": "Sortino"
         }
        }
       }
      },
      "image/png": "[encoded data removed]"
     },
     "metadata": {},
     "output_type": "display_data"
    }
   ],
   "source": [
    "fig_corr = go.Figure()\n",
    "fig_corr.add_trace({'x': sharpe_qs, 'y': sortino_qs})\n",
    "fig_corr.update_layout(xaxis_title='Sharpe', yaxis_title='Sortino')"
   ]
  },
  {
   "cell_type": "code",
   "execution_count": 74,
   "id": "94cbafe1-bd41-4c81-9009-54beb70e0b0d",
   "metadata": {},
   "outputs": [
    {
     "name": "stdout",
     "output_type": "stream",
     "text": [
      "pearson-correl r=0.990 p=0.000\n"
     ]
    }
   ],
   "source": [
    "corr, p = stats.pearsonr(sharpe_qs.dropna(), sortino_qs.dropna())\n",
    "print('pearson-correl r=%.3f' %corr, 'p=%.3f' %p)"
   ]
  },
  {
   "cell_type": "code",
   "execution_count": 83,
   "id": "3cd43a42-25f4-4a47-af4a-7b821a9c939d",
   "metadata": {},
   "outputs": [
    {
     "ename": "SyntaxError",
     "evalue": "invalid syntax. Perhaps you forgot a comma? (1600489974.py, line 3)",
     "output_type": "error",
     "traceback": [
      "\u001b[0;36m  Cell \u001b[0;32mIn[83], line 3\u001b[0;36m\u001b[0m\n\u001b[0;31m    fig.add_trace(go.Scatter(x = sharpe_qs.index, y = sharpe_qs, name = 'Sharpe', line = dict(color = 'blue'), secondary_y = False)\u001b[0m\n\u001b[0m                  ^\u001b[0m\n\u001b[0;31mSyntaxError\u001b[0m\u001b[0;31m:\u001b[0m invalid syntax. Perhaps you forgot a comma?\n"
     ]
    }
   ],
   "source": [
    "fig = make_subplots(specs = [[{\"secondary_y\": True}]])\n",
    "\n",
    "fig.add_trace(go.Scatter(x = sharpe_qs.index, y = sharpe_qs, name = 'Sharpe', line = dict(color = 'blue'), secondary_y = False)\n",
    "fig.add_trace(go.Scatter(x = sortino_qs.index, y = sortino_qs, name = 'Sortino', line = dict(color = 'red'), secondary_y = False)\n",
    "fig.add_trace(go.Scatter(x = df_btc.index, y = np.log(df_btc['Close']), name = 'log price BTC-USD', line = dict(color = 'black'), secondary_y = True)\n",
    "\n",
    "fig.update_yaxes(title_text = 'Risk-adjuste values', secondary_y = False)\n",
    "fig.update_yaxes(title_text = 'log price BTC-USD', secondary_y = True)\n",
    "fig.update_layout(title='Sharpe vs Sortino ratios', xaxis_title=\"Data\", margin=dict(l=75, r=20, t=70, b=70))"
   ]
  },
  {
   "cell_type": "code",
   "execution_count": null,
   "id": "393268bf-0981-4907-8055-76598eed6f59",
   "metadata": {},
   "outputs": [],
   "source": []
  }
 ],
 "metadata": {
  "kernelspec": {
   "display_name": "Python 3 (ipykernel)",
   "language": "python",
   "name": "python3"
  },
  "language_info": {
   "codemirror_mode": {
    "name": "ipython",
    "version": 3
   },
   "file_extension": ".py",
   "mimetype": "text/x-python",
   "name": "python",
   "nbconvert_exporter": "python",
   "pygments_lexer": "ipython3",
   "version": "3.12.3"
  }
 },
 "nbformat": 4,
 "nbformat_minor": 5
}
